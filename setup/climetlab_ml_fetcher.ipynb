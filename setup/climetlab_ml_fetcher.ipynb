{
 "cells": [
  {
   "cell_type": "markdown",
   "id": "74eda6dd",
   "metadata": {},
   "source": [
    "# CliMetLab ML Data Fetcher (Ireland-focused)\n",
    "This notebook gives students simple, reusable functions to download weather/climate data using **CliMetLab** and prepare it for **PyTorch** workflows.\n",
    "\n",
    "### What you can do\n",
    "- **Time series at a single location** (weather station or grid point) for one/many variables.\n",
    "- **Time series at multiple locations** for Graph Neural Networks (returns node features and graph edges).\n",
    "- **Regional grids over Ireland** (bounding box or domain name) for quick experiments.\n",
    "\n",
    "> **Note:** To retrieve ERA5 via the **Copernicus Climate Data Store (CDS)** you must have a CDS account and a `~/.cdsapirc` file set up on the machine that runs this notebook.\n"
   ]
  },
  {
   "cell_type": "markdown",
   "id": "4885a7cb",
   "metadata": {},
   "source": [
    "### References\n",
    "- CliMetLab datasets & examples (ERA5, Ireland):  \n",
    "  - *ERA5-based datasets* (includes **`domain=\"Ireland\"`** and variable-specific datasets like `era5-precipitations`).  \n",
    "  - *Retrieve ERA5 data from the CDS* (shows **`load_source(\"cds\", \"reanalysis-era5-single-levels\", variable=[...], area=[N,W,S,E]`** and `.to_xarray()`).  \n",
    "- Met Éireann station metadata (lat/lon) is openly available (CSV).  \n",
    "\n",
    "These links are included in the teaching materials; you don't need to open them to run the notebook.\n"
   ]
  },
  {
   "cell_type": "markdown",
   "id": "088b581c",
   "metadata": {},
   "source": [
    "## 0) Setup\n",
    "Run this once per environment. If you're on a lab machine, you may already have these.\n"
   ]
  },
  {
   "cell_type": "code",
   "execution_count": null,
   "id": "77cecc6c",
   "metadata": {},
   "outputs": [],
   "source": [
    "# If needed, uncomment to install\n",
    "# %pip install -q climetlab xarray pandas numpy scikit-learn\n",
    "\n",
    "import os\n",
    "import math\n",
    "import json\n",
    "from datetime import datetime\n",
    "from typing import List, Tuple, Dict, Optional\n",
    "\n",
    "import numpy as np\n",
    "import pandas as pd\n",
    "\n",
    "import climetlab as cml\n",
    "import xarray as xr\n",
    "\n",
    "from math import radians, sin, cos, asin, sqrt\n",
    "\n",
    "print(\"CliMetLab version:\", cml.__version__)"
   ]
  },
  {
   "cell_type": "markdown",
   "id": "7bf816af",
   "metadata": {},
   "source": [
    "## 1) Small geo helpers\n",
    "We keep dependencies minimal and implement a tiny Haversine + kNN to avoid heavy GIS installs."
   ]
  },
  {
   "cell_type": "code",
   "execution_count": null,
   "id": "1af66134",
   "metadata": {},
   "outputs": [],
   "source": [
    "def haversine_km(lat1, lon1, lat2, lon2):\n",
    "    '''Great-circle distance (kilometres) between two points.'''\n",
    "    # Convert decimal degrees to radians\n",
    "    lat1, lon1, lat2, lon2 = map(radians, [lat1, lon1, lat2, lon2])\n",
    "    dlat = lat2 - lat1\n",
    "    dlon = lon2 - lon1\n",
    "    a = sin(dlat/2)**2 + cos(lat1) * cos(lat2) * sin(dlon/2)**2\n",
    "    c = 2 * asin(sqrt(a))\n",
    "    R = 6371.0088  # mean Earth radius in km\n",
    "    return R * c\n",
    "\n",
    "def bounding_box(points: List[Tuple[float, float]], pad_deg: float = 0.5):\n",
    "    '''Return (N, W, S, E) with optional margin in degrees.'''\n",
    "    lats = [p[0] for p in points]\n",
    "    lons = [p[1] for p in points]\n",
    "    N = max(lats) + pad_deg\n",
    "    S = min(lats) - pad_deg\n",
    "    W = min(lons) - pad_deg\n",
    "    E = max(lons) + pad_deg\n",
    "    return [N, W, S, E]\n",
    "\n",
    "def knn_edges(coords: List[Tuple[float, float]], k: int = 2):\n",
    "    '''Return undirected edges (i,j) as a 2xM numpy array for PyTorch Geometric style graphs.'''\n",
    "    n = len(coords)\n",
    "    edges = set()\n",
    "    for i in range(n):\n",
    "        dists = []\n",
    "        for j in range(n):\n",
    "            if i == j: \n",
    "                continue\n",
    "            d = haversine_km(coords[i][0], coords[i][1], coords[j][0], coords[j][1])\n",
    "            dists.append((d, j))\n",
    "        dists.sort(key=lambda x: x[0])\n",
    "        for _, j in dists[:k]:\n",
    "            edges.add((i, j))\n",
    "            edges.add((j, i))  # make it undirected by doubling\n",
    "    if not edges:\n",
    "        return np.zeros((2,0), dtype=np.int64)\n",
    "    edges_arr = np.array(sorted(list(edges)), dtype=np.int64).T  # shape (2,M)\n",
    "    return edges_arr"
   ]
  },
  {
   "cell_type": "markdown",
   "id": "d68552d7",
   "metadata": {},
   "source": [
    "## 2) Core loaders (CliMetLab)\n",
    "Two pathways:\n",
    "\n",
    "1. **Dataset shortcuts** like `era5-temperature` or `era5-precipitations` with `domain=\"Ireland\"` for quick demos.\n",
    "2. **Direct CDS access** via `load_source(\"cds\", \"reanalysis-era5-single-levels\", ...)` for multi-variable requests and precise spatial/temporal control.\n",
    "\n",
    "All loaders return **xarray** objects, which are easy to convert to NumPy for PyTorch.\n"
   ]
  },
  {
   "cell_type": "code",
   "execution_count": null,
   "id": "745b63c6",
   "metadata": {},
   "outputs": [],
   "source": [
    "def load_era5_dataset_shortcut(dataset_name: str,\n",
    "                               period: Tuple[int,int],\n",
    "                               domain: str = \"Ireland\",\n",
    "                               time: int = 12):\n",
    "    '''Load ERA5-based dataset shortcut (e.g., 'era5-temperature', 'era5-precipitations') for a named domain (e.g., 'Ireland') and time-of-day (UTC hour). Returns an xarray.Dataset.'''\n",
    "    ds = cml.load_dataset(dataset_name, period=period, domain=domain, time=time)\n",
    "    return ds.to_xarray()  # unify to xarray"
   ]
  },
  {
   "cell_type": "code",
   "execution_count": null,
   "id": "31ea26ed",
   "metadata": {},
   "outputs": [],
   "source": [
    "def load_era5_cds(variables: List[str],\n",
    "                  date_from: str,\n",
    "                  date_to: str,\n",
    "                  hours: List[str],\n",
    "                  area: Optional[List[float]] = None,\n",
    "                  fmt: str = \"netcdf\"):\n",
    "    '''Load ERA5 (single levels) from CDS via CliMetLab.\n",
    "- variables: CDS variable short codes, e.g. ['2t','msl','10u','10v'].\n",
    "- date_from/date_to: 'YYYY-MM-DD' strings.\n",
    "- hours: list of 'HH:MM' strings in UTC.\n",
    "- area: [N, W, S, E] bounding box. If None, global.\n",
    "- fmt: usually 'netcdf' for easy xarray.\n",
    "\n",
    "Returns xarray.Dataset.'''\n",
    "    source = cml.load_source(\n",
    "        \"cds\",\n",
    "        \"reanalysis-era5-single-levels\",\n",
    "        variable=variables,\n",
    "        product_type=\"reanalysis\",\n",
    "        date=f\"{date_from}/to/{date_to}\",\n",
    "        time=hours,\n",
    "        area=area,\n",
    "        format=fmt,\n",
    "    )\n",
    "    return source.to_xarray()"
   ]
  },
  {
   "cell_type": "markdown",
   "id": "ee376252",
   "metadata": {},
   "source": [
    "## 3) Single-point time series (station / grid point)\n",
    "Convenience wrapper that downloads a **small regional subset** and then samples the **nearest grid cell** to the target point.\n"
   ]
  },
  {
   "cell_type": "code",
   "execution_count": null,
   "id": "a83aa53c",
   "metadata": {},
   "outputs": [],
   "source": [
    "def era5_point_timeseries(variables: List[str],\n",
    "                          lat: float, lon: float,\n",
    "                          date_from: str, date_to: str,\n",
    "                          hours: List[str] = [f\"{h:02d}:00\" for h in range(24)],\n",
    "                          pad_deg: float = 0.5):\n",
    "    '''Return a tidy (time x features) DataFrame for a single (lat, lon).\n",
    "- Downloads a small bounding box around the point for efficiency,\n",
    "  then selects the nearest grid cell.\n",
    "- Outputs columns named by variables (e.g. '2t','msl').'''\n",
    "    area = bounding_box([(lat, lon)], pad_deg=pad_deg)\n",
    "    ds = load_era5_cds(variables, date_from, date_to, hours, area=area)\n",
    "    # ERA5 coordinates are (time, latitude, longitude)\n",
    "    p = ds.sel(latitude=lat, longitude=lon, method=\"nearest\")\n",
    "    # Convert to DataFrame with time index\n",
    "    df = p.to_dataframe().reset_index().set_index(\"time\").sort_index()\n",
    "    # Keep only variable columns (some datasets include coords/attrs)\n",
    "    cols = [v for v in variables if v in df.columns]\n",
    "    return df[cols]"
   ]
  },
  {
   "cell_type": "markdown",
   "id": "f44bc816",
   "metadata": {},
   "source": [
    "## 4) Multi-point time series (for GNNs)\n",
    "Fetches a bounding box that covers **all points**, samples each location, and returns:\n",
    "- `features_np`: NumPy array shaped **[time, nodes, features]** (easy to convert to torch).\n",
    "- `edge_index`: 2×M array of integer edges using simple **kNN** on great-circle distance.\n",
    "- `coords`: the actual (lat,lon) used (in case you need to reconstruct)."
   ]
  },
  {
   "cell_type": "code",
   "execution_count": null,
   "id": "4766afdf",
   "metadata": {},
   "outputs": [],
   "source": [
    "def era5_multipoint_timeseries(variables: List[str],\n",
    "                               coords: List[Tuple[float, float]],\n",
    "                               date_from: str, date_to: str,\n",
    "                               hours: List[str] = [f\"{h:02d}:00\" for h in range(24)],\n",
    "                               pad_deg: float = 0.5,\n",
    "                               knn_k: int = 2):\n",
    "    '''For a list of (lat, lon) pairs, return:\n",
    "  - features_np: numpy array [T, N, F]\n",
    "  - times: pandas.DatetimeIndex\n",
    "  - edge_index: numpy array [2, M] (undirected, doubled edges)\n",
    "  - coords_out: list of coords in same order'''\n",
    "    area = bounding_box(coords, pad_deg=pad_deg)\n",
    "    ds = load_era5_cds(variables, date_from, date_to, hours, area=area)\n",
    "    # Build [time x nodes x features]\n",
    "    node_frames = []\n",
    "    for (lat, lon) in coords:\n",
    "        p = ds.sel(latitude=lat, longitude=lon, method=\"nearest\")\n",
    "        df = p.to_dataframe().reset_index().set_index(\"time\").sort_index()\n",
    "        cols = [v for v in variables if v in df.columns]\n",
    "        node_frames.append(df[cols])\n",
    "    # Align on time\n",
    "    aligned = pd.concat(node_frames, axis=1, keys=range(len(coords)))\n",
    "    # MultiIndex columns -> reshape to [T, N, F]\n",
    "    times = aligned.index\n",
    "    N = len(coords)\n",
    "    F = len(variables)\n",
    "    # Reindex columns to consistent order\n",
    "    col_order = []\n",
    "    for n in range(N):\n",
    "        for f in range(F):\n",
    "            col_order.append((n, variables[f]))\n",
    "    aligned = aligned[col_order]\n",
    "    features_np = aligned.to_numpy().reshape(len(times), N, F)\n",
    "    # kNN graph from input coords\n",
    "    edge_index = knn_edges(coords, k=knn_k)\n",
    "    return features_np, times, edge_index, coords"
   ]
  },
  {
   "cell_type": "markdown",
   "id": "d7a9d708",
   "metadata": {},
   "source": [
    "## 5) Quick regional grid over Ireland (dataset shortcut)\n",
    "For fast demos, you can use premade dataset shortcuts (no variable lists), e.g. `era5-precipitations` with `domain=\"Ireland\"`."
   ]
  },
  {
   "cell_type": "code",
   "execution_count": null,
   "id": "5fac509c",
   "metadata": {},
   "outputs": [],
   "source": [
    "def load_ireland_precip_demo(period=(1979, 1982), time=12):\n",
    "    '''Return an xarray.Dataset for ERA5 precipitation over Ireland at one UTC hour across years.'''\n",
    "    x = load_era5_dataset_shortcut(\"era5-precipitations\", period=period, domain=\"Ireland\", time=time)\n",
    "    return x  # xarray.Dataset"
   ]
  },
  {
   "cell_type": "markdown",
   "id": "d3d9c249",
   "metadata": {},
   "source": [
    "## 6) PyTorch-ready outputs\n",
    "We avoid importing PyTorch in this notebook. Models can convert with:\n",
    "```python\n",
    "import torch\n",
    "x = torch.from_numpy(features_np).float()  # shape [T, N, F]\n",
    "edge_index = torch.as_tensor(edge_index, dtype=torch.long)  # shape [2, M]\n",
    "```\n"
   ]
  },
  {
   "cell_type": "markdown",
   "id": "dfad8c47",
   "metadata": {},
   "source": [
    "## 7) Worked Irish examples\n",
    "We use three well-known Irish airport locations for demonstration:\n",
    "- Dublin Airport (53.421, -6.270)\n",
    "- Shannon Airport (52.702, -8.924)\n",
    "- Cork Airport (51.841, -8.491)\n",
    "\n",
    "**Variables:** 2 m temperature (`2t`) and mean sea level pressure (`msl`).  \n",
    "**Period:** a short two-day window to keep downloads small.\n"
   ]
  },
  {
   "cell_type": "code",
   "execution_count": null,
   "id": "86195761",
   "metadata": {},
   "outputs": [],
   "source": [
    "# Example 7.1: Single-point time series at Dublin Airport\n",
    "variables = [\"2t\", \"msl\"]\n",
    "dublin = (53.421, -6.270)\n",
    "df_dub = era5_point_timeseries(variables, dublin[0], dublin[1],\n",
    "                               date_from=\"2020-01-01\", date_to=\"2020-01-02\",\n",
    "                               hours=[f\"{h:02d}:00\" for h in range(0, 24, 3)])  # 3-hourly\n",
    "df_dub.head()"
   ]
  },
  {
   "cell_type": "code",
   "execution_count": null,
   "id": "81a509f4",
   "metadata": {},
   "outputs": [],
   "source": [
    "# Example 7.2: Multi-point time series for a tiny GNN over 3 Irish airports\n",
    "coords = [dublin, (52.702, -8.924), (51.841, -8.491)]  # Dublin, Shannon, Cork\n",
    "features_np, times, edge_index, coords_out = era5_multipoint_timeseries(\n",
    "    variables=variables,\n",
    "    coords=coords,\n",
    "    date_from=\"2020-01-01\",\n",
    "    date_to=\"2020-01-02\",\n",
    "    hours=[f\"{h:02d}:00\" for h in range(0, 24, 6)],  # 6-hourly\n",
    "    pad_deg=0.75,\n",
    "    knn_k=2,\n",
    ")\n",
    "\n",
    "print(\"features_np shape [T,N,F]:\", features_np.shape)\n",
    "print(\"First timestamp:\", times[0])\n",
    "print(\"Edge index shape [2,M]:\", edge_index.shape)\n",
    "print(edge_index)"
   ]
  },
  {
   "cell_type": "markdown",
   "id": "aee66e93",
   "metadata": {},
   "source": [
    "## 8) Optional: Get Irish station metadata (lat/lon)\n",
    "If you wish to use **observational stations** rather than model/reanalysis grid points,\n",
    "Met Éireann publish a CSV of station details (including latitude/longitude). Example:\n",
    "```python\n",
    "url = \"http://cli.fusio.net/cli/climate_data/webdata/StationDetails.csv\"\n",
    "stations = pd.read_csv(url)\n",
    "stations[['StationNumber','Name','Latitude','Longitude','County']].head()\n",
    "```\n",
    "You can then pass those coordinates into `era5_multipoint_timeseries` to extract **ERA5 at station locations**.\n"
   ]
  },
  {
   "cell_type": "markdown",
   "id": "a38890de",
   "metadata": {},
   "source": [
    "## 9) Tips & troubleshooting\n",
    "- Ensure your CDS key is configured in `~/.cdsapirc`. If you get authentication errors, visit the CDS website to create an API key.\n",
    "- If downloads are slow, reduce the time window or number of variables; ERA5 files are large.\n",
    "- Use `area=[N,W,S,E]` to keep spatial subsets small.\n",
    "- Convert Kelvin to °C by subtracting 273.15 after download if needed.\n",
    "- For graphs, adjust `knn_k` to control neighborhood size.\n"
   ]
  }
 ],
 "metadata": {},
 "nbformat": 4,
 "nbformat_minor": 5
}
