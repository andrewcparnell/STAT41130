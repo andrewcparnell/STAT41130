{
  "cells": [
    {
      "cell_type": "markdown",
      "metadata": {},
      "source": [
        "# ERA5 → CSV Exports (t2m + 10 m wind)\n",
        "\n",
        "This notebook loads your ERA5 **GRIB** file and exports four CSVs. It looks for 2 m temperature (`t2m`) and 10 m wind components (`u10`, `v10`).\n",
        "It computes 10 m wind speed as `sqrt(u10**2 + v10**2)` (in m/s).\n",
        "\n",
        "### It will create:\n",
        "1. `era5_dublin_t2m_<YEAR>.csv` — Dublin 2 m temperature\n",
        "2. `era5_dublin_t2m_wind_<YEAR>.csv` — Dublin 2 m temperature + u10, v10, wind_speed10m_ms\n",
        "3. `era5_ireland3_t2m_<YEAR>.csv` — 2 m temperature for Dublin, Galway, Cork\n",
        "4. `era5_ireland3_t2m_wind_<YEAR>.csv` — t2m + wind speed for Dublin, Galway, Cork (one column per city/metric)\n",
        "\n",
        "### Requirements\n",
        "`xarray`, `cfgrib`, `eccodes`, `numpy`, `pandas`. Install if needed:\n",
        "```bash\n",
        "pip install xarray cfgrib eccodes numpy pandas\n",
        "```\n"
      ]
    },
    {
      "cell_type": "code",
      "execution_count": 4,
      "metadata": {},
      "outputs": [
        {
          "data": {
            "text/plain": [
              "PosixPath('data.grib')"
            ]
          },
          "execution_count": 4,
          "metadata": {},
          "output_type": "execute_result"
        }
      ],
      "source": [
        "# --- Parameters ---\n",
        "from pathlib import Path\n",
        "\n",
        "# Path to your unzipped GRIB file\n",
        "GRIB_PATH = Path('data.grib')  # <- change if needed\n",
        "\n",
        "# Choose output directory for CSVs\n",
        "OUTDIR = Path('.')  # current folder by default\n",
        "OUTDIR.mkdir(parents=True, exist_ok=True)\n",
        "GRIB_PATH"
      ]
    },
    {
      "cell_type": "code",
      "execution_count": 5,
      "metadata": {},
      "outputs": [],
      "source": [
        "# --- Imports & helpers ---\n",
        "import numpy as np\n",
        "import pandas as pd\n",
        "import xarray as xr\n",
        "\n",
        "CITIES = {\n",
        "    'Dublin': (53.35, -6.26),\n",
        "    'Galway': (53.27, -9.05),\n",
        "    'Cork':   (51.90, -8.47),\n",
        "}\n",
        "\n",
        "def open_era5_grib(path: Path) -> xr.Dataset:\n",
        "    \"\"\"Open a GRIB file with xarray/cfgrib. If multiple groups exist, merge them.\"\"\"\n",
        "    try:\n",
        "        ds = xr.open_dataset(path, engine='cfgrib')\n",
        "        if len(ds.data_vars) > 0:\n",
        "            return ds\n",
        "    except Exception as e:\n",
        "        print('Simple open failed, trying grouped open via cfgrib.open_datasets()...\\n', e)\n",
        "    import cfgrib\n",
        "    groups = cfgrib.open_datasets(str(path))\n",
        "    print(f'Found {len(groups)} message group(s)')\n",
        "    ds = xr.merge(groups, compat='no_conflicts', join='outer')\n",
        "    return ds\n",
        "\n",
        "def pick_coord_names(ds: xr.Dataset):\n",
        "    lat_name = 'latitude' if 'latitude' in ds.coords else 'lat'\n",
        "    lon_name = 'longitude' if 'longitude' in ds.coords else 'lon'\n",
        "    time_name = 'time' if 'time' in ds.coords else next(c for c in ds.coords if 'time' in c)\n",
        "    return lat_name, lon_name, time_name\n",
        "\n",
        "def find_var(ds: xr.Dataset, candidates, keywords=None):\n",
        "    \"\"\"Return the first variable in candidates or whose name/attrs match keywords.\"\"\"\n",
        "    for cand in candidates:\n",
        "        if cand in ds.data_vars:\n",
        "            return cand\n",
        "    kws = [k.lower() for k in (keywords or [])]\n",
        "    for v, da in ds.data_vars.items():\n",
        "        blob = ' '.join([v] + [str(x) for x in da.attrs.values()]).lower()\n",
        "        if all(kw in blob for kw in kws):\n",
        "            return v\n",
        "    return None\n",
        "\n",
        "def ensure_units_t2m(da: xr.DataArray) -> xr.DataArray:\n",
        "    units = da.attrs.get('units', '').lower()\n",
        "    if units in {'k', 'kelvin'} or float(da.max()) > 200:\n",
        "        da = da - 273.15\n",
        "        da.attrs['units'] = 'degC'\n",
        "    return da\n",
        "\n",
        "def select_point_series(ds: xr.Dataset, var: str, lat: float, lon: float, lat_name: str, lon_name: str):\n",
        "    lon_vals = ds[lon_name]\n",
        "    target_lon = (lon + 360) % 360 if float(lon_vals.max()) > 180 else lon\n",
        "    da = ds[var].sel({lat_name: lat, lon_name: target_lon}, method='nearest').squeeze(drop=True)\n",
        "    return da\n",
        "\n",
        "def restrict_to_year(da: xr.DataArray, time_name: str, year: int) -> xr.DataArray:\n",
        "    t = pd.to_datetime(da[time_name].values)\n",
        "    mask = (t >= f'{year}-01-01') & (t <= f'{year}-12-31 23:59:59')\n",
        "    return da.isel({time_name: np.where(mask)[0]})\n",
        "\n",
        "def maybe_resample(ser: pd.Series, how: str = 'none'):\n",
        "    if how == 'daily_mean':\n",
        "        return ser.resample('1D').mean()\n",
        "    return ser  # daily mean is typical for wind components and speed\n",
        "\n",
        "def wind_speed(u: xr.DataArray, v: xr.DataArray) -> xr.DataArray:\n",
        "    return np.sqrt(u**2 + v**2)\n"
      ]
    },
    {
      "cell_type": "code",
      "execution_count": 6,
      "metadata": {
        "tags": [
          "parameters"
        ]
      },
      "outputs": [
        {
          "name": "stderr",
          "output_type": "stream",
          "text": [
            "skipping variable: paramId==228 shortName='tp'\n",
            "Traceback (most recent call last):\n",
            "  File \"/Users/andrewparnell/GitHub/STAT41130/.venv/lib/python3.11/site-packages/cfgrib/dataset.py\", line 725, in build_dataset_components\n",
            "    dict_merge(variables, coord_vars)\n",
            "  File \"/Users/andrewparnell/GitHub/STAT41130/.venv/lib/python3.11/site-packages/cfgrib/dataset.py\", line 641, in dict_merge\n",
            "    raise DatasetBuildError(\n",
            "cfgrib.dataset.DatasetBuildError: key present and new value is different: key='time' value=Variable(dimensions=('time',), data=array([1704067200, 1704070800, 1704074400, ..., 1735678800, 1735682400,\n",
            "       1735686000], shape=(8784,))) new_value=Variable(dimensions=('time',), data=array([1704045600, 1704088800, 1704132000, 1704175200, 1704218400,\n",
            "       1704261600, 1704304800, 1704348000, 1704391200, 1704434400,\n",
            "       1704477600, 1704520800, 1704564000, 1704607200, 1704650400,\n",
            "       1704693600, 1704736800, 1704780000, 1704823200, 1704866400,\n",
            "       1704909600, 1704952800, 1704996000, 1705039200, 1705082400,\n",
            "       1705125600, 1705168800, 1705212000, 1705255200, 1705298400,\n",
            "       1705341600, 1705384800, 1705428000, 1705471200, 1705514400,\n",
            "       1705557600, 1705600800, 1705644000, 1705687200, 1705730400,\n",
            "       1705773600, 1705816800, 1705860000, 1705903200, 1705946400,\n",
            "       1705989600, 1706032800, 1706076000, 1706119200, 1706162400,\n",
            "       1706205600, 1706248800, 1706292000, 1706335200, 1706378400,\n",
            "       1706421600, 1706464800, 1706508000, 1706551200, 1706594400,\n",
            "       1706637600, 1706680800, 1706724000, 1706767200, 1706810400,\n",
            "       1706853600, 1706896800, 1706940000, 1706983200, 1707026400,\n",
            "       1707069600, 1707112800, 1707156000, 1707199200, 1707242400,\n",
            "       1707285600, 1707328800, 1707372000, 1707415200, 1707458400,\n",
            "       1707501600, 1707544800, 1707588000, 1707631200, 1707674400,\n",
            "       1707717600, 1707760800, 1707804000, 1707847200, 1707890400,\n",
            "       1707933600, 1707976800, 1708020000, 1708063200, 1708106400,\n",
            "       1708149600, 1708192800, 1708236000, 1708279200, 1708322400,\n",
            "       1708365600, 1708408800, 1708452000, 1708495200, 1708538400,\n",
            "       1708581600, 1708624800, 1708668000, 1708711200, 1708754400,\n",
            "       1708797600, 1708840800, 1708884000, 1708927200, 1708970400,\n",
            "       1709013600, 1709056800, 1709100000, 1709143200, 1709186400,\n",
            "       1709229600, 1709272800, 1709316000, 1709359200, 1709402400,\n",
            "       1709445600, 1709488800, 1709532000, 1709575200, 1709618400,\n",
            "       1709661600, 1709704800, 1709748000, 1709791200, 1709834400,\n",
            "       1709877600, 1709920800, 1709964000, 1710007200, 1710050400,\n",
            "       1710093600, 1710136800, 1710180000, 1710223200, 1710266400,\n",
            "       1710309600, 1710352800, 1710396000, 1710439200, 1710482400,\n",
            "       1710525600, 1710568800, 1710612000, 1710655200, 1710698400,\n",
            "       1710741600, 1710784800, 1710828000, 1710871200, 1710914400,\n",
            "       1710957600, 1711000800, 1711044000, 1711087200, 1711130400,\n",
            "       1711173600, 1711216800, 1711260000, 1711303200, 1711346400,\n",
            "       1711389600, 1711432800, 1711476000, 1711519200, 1711562400,\n",
            "       1711605600, 1711648800, 1711692000, 1711735200, 1711778400,\n",
            "       1711821600, 1711864800, 1711908000, 1711951200, 1711994400,\n",
            "       1712037600, 1712080800, 1712124000, 1712167200, 1712210400,\n",
            "       1712253600, 1712296800, 1712340000, 1712383200, 1712426400,\n",
            "       1712469600, 1712512800, 1712556000, 1712599200, 1712642400,\n",
            "       1712685600, 1712728800, 1712772000, 1712815200, 1712858400,\n",
            "       1712901600, 1712944800, 1712988000, 1713031200, 1713074400,\n",
            "       1713117600, 1713160800, 1713204000, 1713247200, 1713290400,\n",
            "       1713333600, 1713376800, 1713420000, 1713463200, 1713506400,\n",
            "       1713549600, 1713592800, 1713636000, 1713679200, 1713722400,\n",
            "       1713765600, 1713808800, 1713852000, 1713895200, 1713938400,\n",
            "       1713981600, 1714024800, 1714068000, 1714111200, 1714154400,\n",
            "       1714197600, 1714240800, 1714284000, 1714327200, 1714370400,\n",
            "       1714413600, 1714456800, 1714500000, 1714543200, 1714586400,\n",
            "       1714629600, 1714672800, 1714716000, 1714759200, 1714802400,\n",
            "       1714845600, 1714888800, 1714932000, 1714975200, 1715018400,\n",
            "       1715061600, 1715104800, 1715148000, 1715191200, 1715234400,\n",
            "       1715277600, 1715320800, 1715364000, 1715407200, 1715450400,\n",
            "       1715493600, 1715536800, 1715580000, 1715623200, 1715666400,\n",
            "       1715709600, 1715752800, 1715796000, 1715839200, 1715882400,\n",
            "       1715925600, 1715968800, 1716012000, 1716055200, 1716098400,\n",
            "       1716141600, 1716184800, 1716228000, 1716271200, 1716314400,\n",
            "       1716357600, 1716400800, 1716444000, 1716487200, 1716530400,\n",
            "       1716573600, 1716616800, 1716660000, 1716703200, 1716746400,\n",
            "       1716789600, 1716832800, 1716876000, 1716919200, 1716962400,\n",
            "       1717005600, 1717048800, 1717092000, 1717135200, 1717178400,\n",
            "       1717221600, 1717264800, 1717308000, 1717351200, 1717394400,\n",
            "       1717437600, 1717480800, 1717524000, 1717567200, 1717610400,\n",
            "       1717653600, 1717696800, 1717740000, 1717783200, 1717826400,\n",
            "       1717869600, 1717912800, 1717956000, 1717999200, 1718042400,\n",
            "       1718085600, 1718128800, 1718172000, 1718215200, 1718258400,\n",
            "       1718301600, 1718344800, 1718388000, 1718431200, 1718474400,\n",
            "       1718517600, 1718560800, 1718604000, 1718647200, 1718690400,\n",
            "       1718733600, 1718776800, 1718820000, 1718863200, 1718906400,\n",
            "       1718949600, 1718992800, 1719036000, 1719079200, 1719122400,\n",
            "       1719165600, 1719208800, 1719252000, 1719295200, 1719338400,\n",
            "       1719381600, 1719424800, 1719468000, 1719511200, 1719554400,\n",
            "       1719597600, 1719640800, 1719684000, 1719727200, 1719770400,\n",
            "       1719813600, 1719856800, 1719900000, 1719943200, 1719986400,\n",
            "       1720029600, 1720072800, 1720116000, 1720159200, 1720202400,\n",
            "       1720245600, 1720288800, 1720332000, 1720375200, 1720418400,\n",
            "       1720461600, 1720504800, 1720548000, 1720591200, 1720634400,\n",
            "       1720677600, 1720720800, 1720764000, 1720807200, 1720850400,\n",
            "       1720893600, 1720936800, 1720980000, 1721023200, 1721066400,\n",
            "       1721109600, 1721152800, 1721196000, 1721239200, 1721282400,\n",
            "       1721325600, 1721368800, 1721412000, 1721455200, 1721498400,\n",
            "       1721541600, 1721584800, 1721628000, 1721671200, 1721714400,\n",
            "       1721757600, 1721800800, 1721844000, 1721887200, 1721930400,\n",
            "       1721973600, 1722016800, 1722060000, 1722103200, 1722146400,\n",
            "       1722189600, 1722232800, 1722276000, 1722319200, 1722362400,\n",
            "       1722405600, 1722448800, 1722492000, 1722535200, 1722578400,\n",
            "       1722621600, 1722664800, 1722708000, 1722751200, 1722794400,\n",
            "       1722837600, 1722880800, 1722924000, 1722967200, 1723010400,\n",
            "       1723053600, 1723096800, 1723140000, 1723183200, 1723226400,\n",
            "       1723269600, 1723312800, 1723356000, 1723399200, 1723442400,\n",
            "       1723485600, 1723528800, 1723572000, 1723615200, 1723658400,\n",
            "       1723701600, 1723744800, 1723788000, 1723831200, 1723874400,\n",
            "       1723917600, 1723960800, 1724004000, 1724047200, 1724090400,\n",
            "       1724133600, 1724176800, 1724220000, 1724263200, 1724306400,\n",
            "       1724349600, 1724392800, 1724436000, 1724479200, 1724522400,\n",
            "       1724565600, 1724608800, 1724652000, 1724695200, 1724738400,\n",
            "       1724781600, 1724824800, 1724868000, 1724911200, 1724954400,\n",
            "       1724997600, 1725040800, 1725084000, 1725127200, 1725170400,\n",
            "       1725213600, 1725256800, 1725300000, 1725343200, 1725386400,\n",
            "       1725429600, 1725472800, 1725516000, 1725559200, 1725602400,\n",
            "       1725645600, 1725688800, 1725732000, 1725775200, 1725818400,\n",
            "       1725861600, 1725904800, 1725948000, 1725991200, 1726034400,\n",
            "       1726077600, 1726120800, 1726164000, 1726207200, 1726250400,\n",
            "       1726293600, 1726336800, 1726380000, 1726423200, 1726466400,\n",
            "       1726509600, 1726552800, 1726596000, 1726639200, 1726682400,\n",
            "       1726725600, 1726768800, 1726812000, 1726855200, 1726898400,\n",
            "       1726941600, 1726984800, 1727028000, 1727071200, 1727114400,\n",
            "       1727157600, 1727200800, 1727244000, 1727287200, 1727330400,\n",
            "       1727373600, 1727416800, 1727460000, 1727503200, 1727546400,\n",
            "       1727589600, 1727632800, 1727676000, 1727719200, 1727762400,\n",
            "       1727805600, 1727848800, 1727892000, 1727935200, 1727978400,\n",
            "       1728021600, 1728064800, 1728108000, 1728151200, 1728194400,\n",
            "       1728237600, 1728280800, 1728324000, 1728367200, 1728410400,\n",
            "       1728453600, 1728496800, 1728540000, 1728583200, 1728626400,\n",
            "       1728669600, 1728712800, 1728756000, 1728799200, 1728842400,\n",
            "       1728885600, 1728928800, 1728972000, 1729015200, 1729058400,\n",
            "       1729101600, 1729144800, 1729188000, 1729231200, 1729274400,\n",
            "       1729317600, 1729360800, 1729404000, 1729447200, 1729490400,\n",
            "       1729533600, 1729576800, 1729620000, 1729663200, 1729706400,\n",
            "       1729749600, 1729792800, 1729836000, 1729879200, 1729922400,\n",
            "       1729965600, 1730008800, 1730052000, 1730095200, 1730138400,\n",
            "       1730181600, 1730224800, 1730268000, 1730311200, 1730354400,\n",
            "       1730397600, 1730440800, 1730484000, 1730527200, 1730570400,\n",
            "       1730613600, 1730656800, 1730700000, 1730743200, 1730786400,\n",
            "       1730829600, 1730872800, 1730916000, 1730959200, 1731002400,\n",
            "       1731045600, 1731088800, 1731132000, 1731175200, 1731218400,\n",
            "       1731261600, 1731304800, 1731348000, 1731391200, 1731434400,\n",
            "       1731477600, 1731520800, 1731564000, 1731607200, 1731650400,\n",
            "       1731693600, 1731736800, 1731780000, 1731823200, 1731866400,\n",
            "       1731909600, 1731952800, 1731996000, 1732039200, 1732082400,\n",
            "       1732125600, 1732168800, 1732212000, 1732255200, 1732298400,\n",
            "       1732341600, 1732384800, 1732428000, 1732471200, 1732514400,\n",
            "       1732557600, 1732600800, 1732644000, 1732687200, 1732730400,\n",
            "       1732773600, 1732816800, 1732860000, 1732903200, 1732946400,\n",
            "       1732989600, 1733032800, 1733076000, 1733119200, 1733162400,\n",
            "       1733205600, 1733248800, 1733292000, 1733335200, 1733378400,\n",
            "       1733421600, 1733464800, 1733508000, 1733551200, 1733594400,\n",
            "       1733637600, 1733680800, 1733724000, 1733767200, 1733810400,\n",
            "       1733853600, 1733896800, 1733940000, 1733983200, 1734026400,\n",
            "       1734069600, 1734112800, 1734156000, 1734199200, 1734242400,\n",
            "       1734285600, 1734328800, 1734372000, 1734415200, 1734458400,\n",
            "       1734501600, 1734544800, 1734588000, 1734631200, 1734674400,\n",
            "       1734717600, 1734760800, 1734804000, 1734847200, 1734890400,\n",
            "       1734933600, 1734976800, 1735020000, 1735063200, 1735106400,\n",
            "       1735149600, 1735192800, 1735236000, 1735279200, 1735322400,\n",
            "       1735365600, 1735408800, 1735452000, 1735495200, 1735538400,\n",
            "       1735581600, 1735624800, 1735668000]))\n",
            "/Users/andrewparnell/GitHub/STAT41130/.venv/lib/python3.11/site-packages/cfgrib/xarray_plugin.py:131: FutureWarning: In a future version, xarray will not decode the variable 'step' into a timedelta64 dtype based on the presence of a timedelta-like 'units' attribute by default. Instead it will rely on the presence of a timedelta64 'dtype' attribute, which is now xarray's default way of encoding timedelta64 values.\n",
            "To continue decoding into a timedelta64 dtype, either set `decode_timedelta=True` when opening this dataset, or add the attribute `dtype='timedelta64[ns]'` to this variable on disk.\n",
            "To opt-in to future behavior, set `decode_timedelta=False`.\n",
            "  vars, attrs, coord_names = xr.conventions.decode_cf_variables(\n"
          ]
        },
        {
          "data": {
            "text/plain": [
              "[2024]"
            ]
          },
          "execution_count": 6,
          "metadata": {},
          "output_type": "execute_result"
        }
      ],
      "source": [
        "# --- Open dataset and pick variables ---\n",
        "assert GRIB_PATH.exists(), f'GRIB not found: {GRIB_PATH}'\n",
        "ds = open_era5_grib(GRIB_PATH)\n",
        "lat_name, lon_name, time_name = pick_coord_names(ds)\n",
        "\n",
        "var_t2m = find_var(ds, candidates=['t2m', 't'], keywords=['2', 'metre', 'temperature']) or 't2m'\n",
        "if var_t2m not in ds:\n",
        "    raise RuntimeError('Could not find 2 m temperature (t2m) in dataset.')\n",
        "var_u10 = find_var(ds, candidates=['u10'], keywords=['10', 'wind', 'u-component']) or 'u10'\n",
        "var_v10 = find_var(ds, candidates=['v10'], keywords=['10', 'wind', 'v-component']) or 'v10'\n",
        "if var_u10 not in ds or var_v10 not in ds:\n",
        "    print('Warning: u10 and/or v10 not found — wind exports will omit missing components.')\n",
        "years_available = sorted({pd.to_datetime(t).year for t in ds[time_name].values})\n",
        "years_available"
      ]
    },
    {
      "cell_type": "markdown",
      "metadata": {},
      "source": [
        "## Choose year and (optional) resampling\n",
        "- `YEAR`: one of the years detected above.\n",
        "- `RESAMPLE`: `'none'` keeps native timestep (e.g., 6-hourly). Use `'daily_mean'` to average to daily for both temperature and wind."
      ]
    },
    {
      "cell_type": "code",
      "execution_count": 7,
      "metadata": {},
      "outputs": [
        {
          "data": {
            "text/plain": [
              "(2024, 'none')"
            ]
          },
          "execution_count": 7,
          "metadata": {},
          "output_type": "execute_result"
        }
      ],
      "source": [
        "YEAR = int(years_available[0])  # <- change if needed, e.g., 2021\n",
        "RESAMPLE = 'none'  # options: 'none', 'daily_mean'\n",
        "YEAR, RESAMPLE"
      ]
    },
    {
      "cell_type": "markdown",
      "metadata": {},
      "source": [
        "## 1) Dublin — 2 m temperature"
      ]
    },
    {
      "cell_type": "code",
      "execution_count": 8,
      "metadata": {},
      "outputs": [
        {
          "data": {
            "text/plain": [
              "PosixPath('era5_dublin_t2m_2024.csv')"
            ]
          },
          "execution_count": 8,
          "metadata": {},
          "output_type": "execute_result"
        }
      ],
      "source": [
        "t2m_dub = ensure_units_t2m(select_point_series(ds, var_t2m, *CITIES['Dublin'], lat_name, lon_name))\n",
        "t2m_dub_y = restrict_to_year(t2m_dub, time_name, YEAR).to_series()\n",
        "t2m_dub_y = maybe_resample(t2m_dub_y, RESAMPLE)\n",
        "df1 = pd.DataFrame({'time': t2m_dub_y.index, 't2m_degC': t2m_dub_y.values}).set_index('time')\n",
        "csv1 = OUTDIR / f'era5_dublin_t2m_{YEAR}.csv'\n",
        "df1.to_csv(csv1)\n",
        "csv1"
      ]
    },
    {
      "cell_type": "markdown",
      "metadata": {},
      "source": [
        "## 2) Dublin — 2 m temperature + 10 m wind (u10, v10, speed)"
      ]
    },
    {
      "cell_type": "code",
      "execution_count": 9,
      "metadata": {},
      "outputs": [
        {
          "data": {
            "text/plain": [
              "PosixPath('era5_dublin_t2m_wind_2024.csv')"
            ]
          },
          "execution_count": 9,
          "metadata": {},
          "output_type": "execute_result"
        }
      ],
      "source": [
        "if var_u10 in ds and var_v10 in ds:\n",
        "    u_dub = select_point_series(ds, var_u10, *CITIES['Dublin'], lat_name, lon_name)\n",
        "    v_dub = select_point_series(ds, var_v10, *CITIES['Dublin'], lat_name, lon_name)\n",
        "    ws_dub = wind_speed(u_dub, v_dub)\n",
        "    t2m_s = t2m_dub_y\n",
        "    u_s = maybe_resample(restrict_to_year(u_dub, time_name, YEAR).to_series(), RESAMPLE)\n",
        "    v_s = maybe_resample(restrict_to_year(v_dub, time_name, YEAR).to_series(), RESAMPLE)\n",
        "    ws_s = maybe_resample(restrict_to_year(ws_dub, time_name, YEAR).to_series(), RESAMPLE)\n",
        "    # Align indexes\n",
        "    df2 = pd.concat([t2m_s, u_s, v_s, ws_s], axis=1)\n",
        "    df2.columns = ['t2m_degC', 'u10_ms', 'v10_ms', 'wind_speed10m_ms']\n",
        "else:\n",
        "    print('u10/v10 missing: exporting temperature-only for step 2.')\n",
        "    df2 = df1.copy()\n",
        "csv2 = OUTDIR / f'era5_dublin_t2m_wind_{YEAR}.csv'\n",
        "df2.to_csv(csv2)\n",
        "csv2"
      ]
    },
    {
      "cell_type": "markdown",
      "metadata": {},
      "source": [
        "## 3) Dublin, Galway, Cork — 2 m temperature"
      ]
    },
    {
      "cell_type": "code",
      "execution_count": 10,
      "metadata": {},
      "outputs": [
        {
          "data": {
            "text/plain": [
              "PosixPath('era5_ireland3_t2m_2024.csv')"
            ]
          },
          "execution_count": 10,
          "metadata": {},
          "output_type": "execute_result"
        }
      ],
      "source": [
        "rows = {}\n",
        "for city in ['Dublin', 'Galway', 'Cork']:\n",
        "    da = ensure_units_t2m(select_point_series(ds, var_t2m, *CITIES[city], lat_name, lon_name))\n",
        "    ser = restrict_to_year(da, time_name, YEAR).to_series()\n",
        "    ser = maybe_resample(ser, RESAMPLE)\n",
        "    rows[city] = ser\n",
        "df3 = pd.concat(rows, axis=1)\n",
        "df3.columns = [f'{c}_t2m_degC' for c in df3.columns]\n",
        "df3.index.name = 'time'\n",
        "csv3 = OUTDIR / f'era5_ireland3_t2m_{YEAR}.csv'\n",
        "df3.to_csv(csv3)\n",
        "csv3"
      ]
    },
    {
      "cell_type": "markdown",
      "metadata": {},
      "source": [
        "## 4) Dublin, Galway, Cork — 2 m temperature + 10 m wind speed"
      ]
    },
    {
      "cell_type": "code",
      "execution_count": 11,
      "metadata": {},
      "outputs": [
        {
          "data": {
            "text/plain": [
              "PosixPath('era5_ireland3_t2m_wind_2024.csv')"
            ]
          },
          "execution_count": 11,
          "metadata": {},
          "output_type": "execute_result"
        }
      ],
      "source": [
        "if var_u10 in ds and var_v10 in ds:\n",
        "    t_rows, ws_rows = {}, {}\n",
        "    for city in ['Dublin', 'Galway', 'Cork']:\n",
        "        da_t = ensure_units_t2m(select_point_series(ds, var_t2m, *CITIES[city], lat_name, lon_name))\n",
        "        da_u = select_point_series(ds, var_u10, *CITIES[city], lat_name, lon_name)\n",
        "        da_v = select_point_series(ds, var_v10, *CITIES[city], lat_name, lon_name)\n",
        "        da_ws = wind_speed(da_u, da_v)\n",
        "        st = maybe_resample(restrict_to_year(da_t, time_name, YEAR).to_series(), RESAMPLE)\n",
        "        sws = maybe_resample(restrict_to_year(da_ws, time_name, YEAR).to_series(), RESAMPLE)\n",
        "        t_rows[city] = st\n",
        "        ws_rows[city] = sws\n",
        "    df_t = pd.concat(t_rows, axis=1)\n",
        "    df_ws = pd.concat(ws_rows, axis=1)\n",
        "    df4 = pd.concat({'t2m_degC': df_t, 'wind_speed10m_ms': df_ws}, axis=1)\n",
        "    # Flatten MultiIndex columns to City_Var format\n",
        "    df4.columns = [f\"{city}_{lvl}\" for lvl, city in zip([c[0] for c in df4.columns], [c[1] for c in df4.columns])]\n",
        "    df4.index.name = 'time'\n",
        "else:\n",
        "    print('u10/v10 missing: exporting temperature-only for step 4.')\n",
        "    df4 = df3.copy()\n",
        "csv4 = OUTDIR / f'era5_ireland3_t2m_wind_{YEAR}.csv'\n",
        "df4.to_csv(csv4)\n",
        "csv4"
      ]
    },
    {
      "cell_type": "markdown",
      "metadata": {},
      "source": [
        "### Done\n",
        "The four CSVs should now be saved in `OUTDIR`. Set `RESAMPLE = 'daily_mean'` if you prefer daily averages.\n",
        "Wind speed is in **m/s**. Temperature is in **°C**.\n"
      ]
    }
  ],
  "metadata": {
    "created": "2025-09-30T15:43:27.476525Z",
    "kernelspec": {
      "display_name": ".venv",
      "language": "python",
      "name": "python3"
    },
    "language_info": {
      "codemirror_mode": {
        "name": "ipython",
        "version": 3
      },
      "file_extension": ".py",
      "mimetype": "text/x-python",
      "name": "python",
      "nbconvert_exporter": "python",
      "pygments_lexer": "ipython3",
      "version": "3.11.13"
    }
  },
  "nbformat": 4,
  "nbformat_minor": 5
}
