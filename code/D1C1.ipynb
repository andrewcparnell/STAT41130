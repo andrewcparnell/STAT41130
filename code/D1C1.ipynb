{
 "cells": [
  {
   "cell_type": "markdown",
   "id": "9a217672",
   "metadata": {},
   "source": [
    "# Linear Regression as a Neural Network\n",
    "This notebook introduces linear regression as a simple neural network and demonstrates how it can be fitted using gradient descent. We'll go through: \n",
    "- Data generation\n",
    "- Visualisation\n",
    "- Defining the model\n",
    "- Loss function\n",
    "- Gradient Descent algorithm\n",
    "- Fitting the model and plotting convergence\n",
    "- Manual training loop in Python\n"
   ]
  },
  {
   "cell_type": "code",
   "execution_count": 1,
   "id": "0b89b82c",
   "metadata": {},
   "outputs": [],
   "source": [
    "import numpy as np\n",
    "import matplotlib.pyplot as plt\n"
   ]
  },
  {
   "cell_type": "markdown",
   "id": "fd4b6d27",
   "metadata": {},
   "source": [
    "## Generate a simple dataset"
   ]
  },
  {
   "cell_type": "code",
   "execution_count": 10,
   "id": "b2f4e847",
   "metadata": {},
   "outputs": [
    {
     "data": {
      "image/png": "[encoded data removed]",
      "text/plain": [
       "<Figure size 640x480 with 1 Axes>"
      ]
     },
     "metadata": {},
     "output_type": "display_data"
    },
    {
     "name": "stdout",
     "output_type": "stream",
     "text": [
      "X: [1.09 0.56 0.85 1.69 0.01]\n",
      "y: [7.62 4.88 6.32 9.28 4.96]\n"
     ]
    }
   ],
   "source": [
    "np.random.seed(100)\n",
    "X = 2 * np.random.rand(5, 1)\n",
    "y = 4 + 3 * X + np.random.randn(5, 1)\n",
    "plt.scatter(X, y)\n",
    "plt.xlabel('X')\n",
    "plt.ylabel('y')\n",
    "plt.title('Generated Data')\n",
    "plt.show()\n",
    "print(\"X:\", np.round(X.flatten(), 2))\n",
    "print(\"y:\", np.round(y.flatten(), 2))"
   ]
  },
  {
   "cell_type": "markdown",
   "id": "3a5e37c2",
   "metadata": {},
   "source": [
    "We want to use the equation: y = a + b * x + e\n",
    "We will choose some values of a and b and look at the values of the residual sum of squares"
   ]
  },
  {
   "cell_type": "code",
   "execution_count": 14,
   "id": "51c810c3",
   "metadata": {},
   "outputs": [
    {
     "name": "stdout",
     "output_type": "stream",
     "text": [
      "Residual sum of squares for a=1, b=1: 120.61\n",
      "Residual sum of squares for a=5, b=0.5: 17.02\n"
     ]
    }
   ],
   "source": [
    "a = 1\n",
    "b = 1\n",
    "sum_of_squares = np.sum((y - (a + b * X)) ** 2)\n",
    "print(f\"Residual sum of squares for a={a}, b={b}: {sum_of_squares:.2f}\")\n",
    "a = 5\n",
    "b = 0.5\n",
    "sum_of_squares = np.sum((y - (a + b * X)) ** 2)\n",
    "print(f\"Residual sum of squares for a={a}, b={b}: {sum_of_squares:.2f}\")\n"
   ]
  },
  {
   "cell_type": "markdown",
   "id": "c9133052",
   "metadata": {},
   "source": [
    "## Linear Model\n",
    "We model the line as $y = wX + b$"
   ]
  },
  {
   "cell_type": "code",
   "execution_count": null,
   "id": "68426869",
   "metadata": {},
   "outputs": [],
   "source": [
    "def predict(X, w, b):\n",
    "    return w * X + b"
   ]
  },
  {
   "cell_type": "markdown",
   "id": "54b28009",
   "metadata": {},
   "source": [
    "## Loss Function: Mean Squared Error"
   ]
  },
  {
   "cell_type": "code",
   "execution_count": null,
   "id": "baf7f381",
   "metadata": {},
   "outputs": [],
   "source": [
    "def mse(y_true, y_pred):\n",
    "    return ((y_true - y_pred) ** 2).mean()"
   ]
  },
  {
   "cell_type": "markdown",
   "id": "40d87933",
   "metadata": {},
   "source": [
    "## Gradient Descent Step"
   ]
  },
  {
   "cell_type": "code",
   "execution_count": null,
   "id": "d62c7592",
   "metadata": {},
   "outputs": [],
   "source": [
    "def compute_gradients(X, y, w, b):\n",
    "    y_pred = predict(X, w, b)\n",
    "    error = y_pred - y\n",
    "    dw = (2 * (error * X).mean())\n",
    "    db = (2 * error.mean())\n",
    "    return dw, db"
   ]
  },
  {
   "cell_type": "markdown",
   "id": "f0175346",
   "metadata": {},
   "source": [
    "## Training the Model using Gradient Descent"
   ]
  },
  {
   "cell_type": "code",
   "execution_count": null,
   "id": "2dfb7db6",
   "metadata": {},
   "outputs": [],
   "source": [
    "w, b = 0.0, 0.0\n",
    "lr = 0.1\n",
    "epochs = 100\n",
    "losses = []\n",
    "\n",
    "for epoch in range(epochs):\n",
    "    dw, db = compute_gradients(X, y, w, b)\n",
    "    w -= lr * dw\n",
    "    b -= lr * db\n",
    "    loss = mse(y, predict(X, w, b))\n",
    "    losses.append(loss)\n",
    "\n",
    "print(f'Trained weights: w = {w:.2f}, b = {b:.2f}')"
   ]
  },
  {
   "cell_type": "markdown",
   "id": "23de3557",
   "metadata": {},
   "source": [
    "## Plotting the Fit"
   ]
  },
  {
   "cell_type": "code",
   "execution_count": null,
   "id": "fa0974ec",
   "metadata": {},
   "outputs": [],
   "source": [
    "plt.scatter(X, y)\n",
    "plt.plot(X, predict(X, w, b), color='red')\n",
    "plt.xlabel('X')\n",
    "plt.ylabel('y')\n",
    "plt.title('Linear Fit after Training')\n",
    "plt.show()"
   ]
  },
  {
   "cell_type": "markdown",
   "id": "310669ee",
   "metadata": {},
   "source": [
    "## Loss Curve"
   ]
  },
  {
   "cell_type": "code",
   "execution_count": null,
   "id": "b478bd5c",
   "metadata": {},
   "outputs": [],
   "source": [
    "plt.plot(losses)\n",
    "plt.xlabel('Epoch')\n",
    "plt.ylabel('Loss')\n",
    "plt.title('Loss over Epochs')\n",
    "plt.show()"
   ]
  },
  {
   "cell_type": "markdown",
   "id": "cf0a4898",
   "metadata": {},
   "source": [
    "## Try it Yourself!\n",
    "Try changing the learning rate or number of epochs and see how it affects convergence."
   ]
  }
 ],
 "metadata": {
  "kernelspec": {
   "display_name": ".venv",
   "language": "python",
   "name": "python3"
  },
  "language_info": {
   "codemirror_mode": {
    "name": "ipython",
    "version": 3
   },
   "file_extension": ".py",
   "mimetype": "text/x-python",
   "name": "python",
   "nbconvert_exporter": "python",
   "pygments_lexer": "ipython3",
   "version": "3.10.18"
  }
 },
 "nbformat": 4,
 "nbformat_minor": 5
}
